{
 "cells": [
  {
   "cell_type": "raw",
   "id": "76f0b777-9109-4941-91e6-73aa75f2dd2a",
   "metadata": {},
   "source": [
    "Theoritical Questions:"
   ]
  },
  {
   "cell_type": "raw",
   "id": "dd3960d0-1d60-41a9-b657-5cad1ca60b53",
   "metadata": {},
   "source": [
    "1.What is python and why is it popular?\n",
    "  -> python is a high-level,interpreted programming language known for its simplicity and readability.\n",
    "  -> python is popular for following reasons:\n",
    "     i)Easy to learn and use\n",
    "     ii)Rich ecosystem of libraries\n",
    "     iii)Scalability and vesatality\n",
    "     iv)Open source\n",
    "     v)Automation\n",
    "     vi)Huge active community\n",
    "     vii)image processing \n",
    "     viii) Data base"
   ]
  },
  {
   "cell_type": "raw",
   "id": "903de866-202d-4f82-b8e4-41e7f3b8d02c",
   "metadata": {},
   "source": [
    "2.what is an interpreter in python?\n",
    "  -> An interpreter is a programme that executes python code line-by-line and converts it into a machine-readable code."
   ]
  },
  {
   "cell_type": "raw",
   "id": "4e561ab1-449c-43b2-a935-91095b20ca04",
   "metadata": {},
   "source": [
    "3.What are pre-defined keywords in python?\n",
    "  -> Pre-defined keywords are words that hold a special meaning and have specific purpose in python.\n",
    "     ie.print,break,def,none etc."
   ]
  },
  {
   "cell_type": "raw",
   "id": "065ac90c-3422-418e-9b53-9cce369cf1dc",
   "metadata": {},
   "source": [
    "4.can keywords be used as variable names?\n",
    "  -> No, keyword cannot be used as variable names."
   ]
  },
  {
   "cell_type": "raw",
   "id": "23d4336e-903c-4395-a32c-2361786af08d",
   "metadata": {},
   "source": [
    "5.what is mutability in phthon?\n",
    "  -> Mutability refers to wheather an object/container can be changed after it is created.\n",
    "     for example list is a mutable object."
   ]
  },
  {
   "cell_type": "raw",
   "id": "fdb41676-d124-43ce-93d7-9e41869332c4",
   "metadata": {},
   "source": [
    "6.Why are lists mutable, but tuples are immutable?\n",
    "  -> Because lists are designed to be flexible and changeable whereas tuples are suitable for representing fixed collection of data."
   ]
  },
  {
   "cell_type": "raw",
   "id": "1c8a68f0-3cef-4630-a32f-a4ee8e36f52b",
   "metadata": {},
   "source": [
    "7.What is difference between \"==\" and is operator \"in\" python?\n",
    "  -> \"==\" checks for eqality of values and returns True if the values of two objects are same whereas \"is\" checks for object identity and        returns True if two variables refer to the exact same object. "
   ]
  },
  {
   "cell_type": "raw",
   "id": "7f96902e-9026-4c75-b188-bff9b43cff63",
   "metadata": {},
   "source": [
    "8. What are logical operators in python?\n",
    "  -> Logical operators are used to combine multiple conditions and return either True or False.\n",
    "  -> List of logical operators:\n",
    "      i)and\n",
    "      ii)or"
   ]
  },
  {
   "cell_type": "raw",
   "id": "072c62cd-6b2d-45d5-80e6-dce365da6bee",
   "metadata": {},
   "source": [
    "9.What is type casting in python?\n",
    "  -> The process of changing the data type of a value/object in python is known as type casting."
   ]
  },
  {
   "cell_type": "raw",
   "id": "63e955fd-63dc-4e88-b37b-ac87089eb250",
   "metadata": {},
   "source": [
    "10.What is the difference between implicit and explicit type casting?\n",
    "  -> In implicit casting Python understands data type.so, it is done automatically by python.\n",
    "  -> In explicit castind programmer manually converts the data type by using inbuilt functions.\n",
    "    ie.str,int,float etc."
   ]
  },
  {
   "cell_type": "raw",
   "id": "4253ae5c-e163-4aa8-9ff2-d33feaac97e0",
   "metadata": {},
   "source": [
    "11.What is the purpose of conditional statements in python?\n",
    "  -> Conditonal statements help us to code decisions based on some pre-conditions.They allow a programme to make desions and execute             different code blocks accordingly."
   ]
  },
  {
   "cell_type": "raw",
   "id": "b21b699e-ac0e-429d-adb1-4e3953d08c3e",
   "metadata": {},
   "source": [
    "12.How does the elif statement work?\n",
    "  -> When there are multiple conditions elif statement lets ypu check it.If the first condition(if) is Fales, elif provides another              condition to check."
   ]
  },
  {
   "cell_type": "raw",
   "id": "6dec3272-1f29-4ef3-9ab2-94f57353ee16",
   "metadata": {},
   "source": [
    "13.what is the diffference between foe and whiule loops?\n",
    "  -> Here, while loop repeatedly executes a block of code untill a condition is met where for loop iterates over a sequence of elements."
   ]
  },
  {
   "cell_type": "raw",
   "id": "e5019b15-b188-49fb-a69c-be6b64b0c3ba",
   "metadata": {},
   "source": [
    "14.Describe a scenario where a while loop is more suitable than a for loop?\n",
    "  -> A while loop is better when we don't know in advance that how mamy times we need to loop.\n",
    "     ie. In a level based game(level 1- level 5) an index can be used to track the current level.\n",
    "         A while loops runs while the player is alive and not at the final level.\n",
    "         The index helps player to move on to the next level step by step."
   ]
  },
  {
   "cell_type": "raw",
   "id": "f6b1b9e2-1e29-49dc-9a20-b831c2148d77",
   "metadata": {},
   "source": [
    "Practicle Questions:"
   ]
  },
  {
   "cell_type": "code",
   "execution_count": 1,
   "id": "97a7fcf7-a0b2-4e57-ab13-393eb4c4d4dd",
   "metadata": {},
   "outputs": [
    {
     "name": "stdout",
     "output_type": "stream",
     "text": [
      "Hello, world!\n"
     ]
    }
   ],
   "source": [
    "#1.print(\"Hello, world!\")\n",
    "print(\"Hello, world!\")"
   ]
  },
  {
   "cell_type": "code",
   "execution_count": 7,
   "id": "9390f2e2-db83-42c4-aba7-464739850886",
   "metadata": {},
   "outputs": [
    {
     "name": "stdout",
     "output_type": "stream",
     "text": [
      "Name: Jeera Nishad\n",
      "Age: 23\n"
     ]
    }
   ],
   "source": [
    "#2.display your name and age.\n",
    "name = \"Jeera Nishad\"\n",
    "age = 23\n",
    "print(\"Name:\",name)\n",
    "print(\"Age:\",age)"
   ]
  },
  {
   "cell_type": "code",
   "execution_count": 12,
   "id": "2b8f8133-0a59-4d87-b8be-c25bb23557cb",
   "metadata": {},
   "outputs": [
    {
     "name": "stdout",
     "output_type": "stream",
     "text": [
      "['False', 'None', 'True', 'and', 'as', 'assert', 'async', 'await', 'break', 'class', 'continue', 'def', 'del', 'elif', 'else', 'except', 'finally', 'for', 'from', 'global', 'if', 'import', 'in', 'is', 'lambda', 'nonlocal', 'not', 'or', 'pass', 'raise', 'return', 'try', 'while', 'with', 'yield']\n"
     ]
    }
   ],
   "source": [
    "#3.print all pre-defined keywords.\n",
    "import keyword\n",
    "print(keyword.kwlist)"
   ]
  },
  {
   "cell_type": "code",
   "execution_count": 8,
   "id": "b6394502-b206-44a7-a541-eb2e5cd1f2c7",
   "metadata": {},
   "outputs": [
    {
     "name": "stdout",
     "output_type": "stream",
     "text": [
      "for is a python keyword\n"
     ]
    }
   ],
   "source": [
    "#4.check if a word is a python keyword.\n",
    "import keyword\n",
    "word = \"for\"\n",
    "if keyword.iskeyword(word):\n",
    "    print(\"for is a python keyword\")\n",
    "else:\n",
    "    print(\"for is not a python keyword\")\n"
   ]
  },
  {
   "cell_type": "code",
   "execution_count": 12,
   "id": "494976a2-66f7-4d33-8bf0-29053543d887",
   "metadata": {},
   "outputs": [
    {
     "name": "stdout",
     "output_type": "stream",
     "text": [
      "modified list: [1, 2, 3, 4, 5, 6, 7, 8]\n"
     ]
    },
    {
     "ename": "TypeError",
     "evalue": "'tuple' object does not support item assignment",
     "output_type": "error",
     "traceback": [
      "\u001b[31m---------------------------------------------------------------------------\u001b[39m",
      "\u001b[31mTypeError\u001b[39m                                 Traceback (most recent call last)",
      "\u001b[36mCell\u001b[39m\u001b[36m \u001b[39m\u001b[32mIn[12]\u001b[39m\u001b[32m, line 6\u001b[39m\n\u001b[32m      4\u001b[39m list_cont[\u001b[32m4\u001b[39m] = \u001b[32m5\u001b[39m\n\u001b[32m      5\u001b[39m \u001b[38;5;28mprint\u001b[39m(\u001b[33m\"\u001b[39m\u001b[33mmodified list:\u001b[39m\u001b[33m\"\u001b[39m,list_cont)\n\u001b[32m----> \u001b[39m\u001b[32m6\u001b[39m \u001b[43mmy_tuple\u001b[49m\u001b[43m[\u001b[49m\u001b[32;43m0\u001b[39;49m\u001b[43m]\u001b[49m = \u001b[32m9\u001b[39m\n\u001b[32m      7\u001b[39m \u001b[38;5;28mprint\u001b[39m(\u001b[33m\"\u001b[39m\u001b[33mmodified list:\u001b[39m\u001b[33m\"\u001b[39m,my_tuple)\n",
      "\u001b[31mTypeError\u001b[39m: 'tuple' object does not support item assignment"
     ]
    }
   ],
   "source": [
    "#5.create list and tuple and demonstrate immutability.\n",
    "list_cont = [1,2,3,4,\"Ajay\",6,7,8]\n",
    "my_tuple = (\"Avnit\",\"Kiran\",109)\n",
    "list_cont[4] = 5\n",
    "print(\"modified list:\",list_cont)\n",
    "my_tuple[0] = 9\n",
    "print(\"modified list:\",my_tuple)"
   ]
  },
  {
   "cell_type": "code",
   "execution_count": 13,
   "id": "86e0e065-53af-43d3-bdcb-c99340d42928",
   "metadata": {},
   "outputs": [
    {
     "name": "stdout",
     "output_type": "stream",
     "text": [
      "modified list: [1, 2, 3, 100]\n",
      "modified list: 5\n"
     ]
    }
   ],
   "source": [
    "#6.behavior of mutable and immutable arguments.\n",
    "def modify_list(lst):\n",
    "    lst.append(100)\n",
    "\n",
    "def modify_int(num):\n",
    "    num += 10\n",
    "\n",
    "my_list = [1,2,3]\n",
    "modify_list(my_list)\n",
    "print(\"modified list:\", my_list)\n",
    "\n",
    "my_num = 5\n",
    "modify_int(my_num)\n",
    "print(\"modified list:\", my_num)"
   ]
  },
  {
   "cell_type": "code",
   "execution_count": 14,
   "id": "91048724-50fa-4c2e-9f9c-de3b8f3b4bfa",
   "metadata": {},
   "outputs": [
    {
     "name": "stdout",
     "output_type": "stream",
     "text": [
      "Sum: 12\n",
      "Difference: -2\n",
      "Product: 35\n",
      "Quotient: 0.7142857142857143\n"
     ]
    }
   ],
   "source": [
    "#7.basic arithmetic on two inputs.\n",
    "a = 5\n",
    "b = 7\n",
    "print(\"Sum:\",a + b)\n",
    "print(\"Difference:\",a - b)\n",
    "print(\"Product:\",a * b)\n",
    "print(\"Quotient:\",a / b)\n"
   ]
  },
  {
   "cell_type": "code",
   "execution_count": 15,
   "id": "e7903bec-8416-430e-a42d-af78652b2b0a",
   "metadata": {},
   "outputs": [
    {
     "name": "stdout",
     "output_type": "stream",
     "text": [
      "False\n",
      "False\n",
      "True\n"
     ]
    }
   ],
   "source": [
    "#8.use of logical operators.\n",
    "a = 8\n",
    "print(a > 10 and a < 20)\n",
    "print(a < 5 or a >13)\n",
    "print(not(a == 10))"
   ]
  },
  {
   "cell_type": "code",
   "execution_count": 6,
   "id": "bde46f25-56e9-4582-b302-056d4faba20e",
   "metadata": {},
   "outputs": [
    {
     "name": "stdout",
     "output_type": "stream",
     "text": [
      "As integer: 50\n",
      "As float: 50.0\n",
      "As boolean: True\n"
     ]
    }
   ],
   "source": [
    "#9.convert input into int, float, bool.\n",
    "value = 50\n",
    "print(\"As integer:\", int(value))\n",
    "print(\"As float:\", float(value))\n",
    "print(\"As boolean:\", bool(value))\n",
    "\n"
   ]
  },
  {
   "cell_type": "code",
   "execution_count": 31,
   "id": "8269d4bd-8e95-4981-9745-08055d3716da",
   "metadata": {},
   "outputs": [
    {
     "name": "stdout",
     "output_type": "stream",
     "text": [
      "<class 'int'>\n",
      "<class 'str'>\n",
      "<class 'float'>\n",
      "<class 'bool'>\n",
      "modified list: [1, 3, 5, 7, 'veena', True]\n"
     ]
    },
    {
     "ename": "TypeError",
     "evalue": "can only concatenate str (not \"int\") to str",
     "output_type": "error",
     "traceback": [
      "\u001b[31m---------------------------------------------------------------------------\u001b[39m",
      "\u001b[31mTypeError\u001b[39m                                 Traceback (most recent call last)",
      "\u001b[36mCell\u001b[39m\u001b[36m \u001b[39m\u001b[32mIn[31]\u001b[39m\u001b[32m, line 8\u001b[39m\n\u001b[32m      6\u001b[39m \u001b[38;5;28mprint\u001b[39m(\u001b[38;5;28mtype\u001b[39m(\u001b[38;5;28mbool\u001b[39m(my_list[\u001b[32m4\u001b[39m])))\n\u001b[32m      7\u001b[39m \u001b[38;5;28mprint\u001b[39m(\u001b[33m\"\u001b[39m\u001b[33mmodified list:\u001b[39m\u001b[33m\"\u001b[39m,my_list)\n\u001b[32m----> \u001b[39m\u001b[32m8\u001b[39m \u001b[38;5;28;43mstr\u001b[39;49m\u001b[43m(\u001b[49m\u001b[43mmy_list\u001b[49m\u001b[43m[\u001b[49m\u001b[32;43m0\u001b[39;49m\u001b[43m]\u001b[49m\u001b[43m)\u001b[49m\u001b[43m \u001b[49m\u001b[43m+\u001b[49m\u001b[43m \u001b[49m\u001b[43mmy_list\u001b[49m\u001b[43m[\u001b[49m\u001b[32;43m1\u001b[39;49m\u001b[43m]\u001b[49m\u001b[38;5;66;03m#here the first element is string so the addition is not possible.\u001b[39;00m\n",
      "\u001b[31mTypeError\u001b[39m: can only concatenate str (not \"int\") to str"
     ]
    }
   ],
   "source": [
    "#10.type casting with list elements.\n",
    "my_list = [1,3,5,7,\"veena\",True]\n",
    "print(type(my_list[0]))\n",
    "print(type(str(my_list[0])))\n",
    "print(type(float(my_list[3])))\n",
    "print(type(bool(my_list[4])))\n",
    "print(\"modified list:\",my_list)\n",
    "str(my_list[0]) + my_list[1]#here the first element is string so the addition is not possible."
   ]
  },
  {
   "cell_type": "code",
   "execution_count": 32,
   "id": "3c319ad1-e5c2-4b78-b3aa-b713e7b6184d",
   "metadata": {},
   "outputs": [
    {
     "name": "stdout",
     "output_type": "stream",
     "text": [
      "the number is positive\n"
     ]
    }
   ],
   "source": [
    "#11.check if a number is positive,negative or zero.\n",
    "a = 6\n",
    "if a > 0:\n",
    "    print(\"the number is positive\")\n",
    "elif a < 0:\n",
    "    print(\"the number is negative\")\n",
    "else:\n",
    "    print(\"the number is zero\")\n"
   ]
  },
  {
   "cell_type": "code",
   "execution_count": 33,
   "id": "8f1e7ca4-b6bd-4675-a7f8-677515b8a7c8",
   "metadata": {},
   "outputs": [
    {
     "name": "stdout",
     "output_type": "stream",
     "text": [
      "0\n",
      "1\n",
      "2\n",
      "3\n",
      "4\n",
      "5\n",
      "6\n",
      "7\n",
      "8\n",
      "9\n",
      "10\n"
     ]
    }
   ],
   "source": [
    "#12.write a for loop to print 1 to 10.\n",
    "for i in range (0,11):\n",
    "    print(i)"
   ]
  },
  {
   "cell_type": "code",
   "execution_count": 37,
   "id": "14076a35-7687-4369-a168-8c2b7c854446",
   "metadata": {},
   "outputs": [
    {
     "name": "stdout",
     "output_type": "stream",
     "text": [
      "sum of all even between 1 and numbers: 600\n"
     ]
    }
   ],
   "source": [
    "#13.sum of all even numbers between 1 and 50.\n",
    "sum = 0\n",
    "for i in range(1,50):\n",
    "    if i % 2 == 0:\n",
    "        sum += i\n",
    "print(\"sum of all even between 1 and numbers:\",sum)"
   ]
  },
  {
   "cell_type": "code",
   "execution_count": 43,
   "id": "00a7968e-5511-4748-b215-61f90485518e",
   "metadata": {},
   "outputs": [
    {
     "name": "stdout",
     "output_type": "stream",
     "text": [
      "reversed string: olleH\n"
     ]
    }
   ],
   "source": [
    "#14.reverse a string using while loop.\n",
    "text = \"Hello\"\n",
    "reversed_text = \"\"\n",
    "i = len(text) - 1\n",
    "while i >= 0:\n",
    "    reversed_text += text[i]\n",
    "    i -= 1\n",
    "print(\"reversed string:\",reversed_text)   \n",
    "    "
   ]
  },
  {
   "cell_type": "code",
   "execution_count": 44,
   "id": "c5427cd2-81a2-4eb8-8a6d-cd1c1ad822f5",
   "metadata": {},
   "outputs": [
    {
     "name": "stdout",
     "output_type": "stream",
     "text": [
      "factorial of 7 is: 5040\n"
     ]
    }
   ],
   "source": [
    "#15.calculate factorial using while loop.\n",
    "num = 7\n",
    "factorial = 1\n",
    "i = 1\n",
    "while i <= num:\n",
    "    factorial *= i\n",
    "    i += 1\n",
    "print(\"factorial of 7 is:\",factorial)"
   ]
  }
 ],
 "metadata": {
  "kernelspec": {
   "display_name": "Python 3 (ipykernel)",
   "language": "python",
   "name": "python3"
  },
  "language_info": {
   "codemirror_mode": {
    "name": "ipython",
    "version": 3
   },
   "file_extension": ".py",
   "mimetype": "text/x-python",
   "name": "python",
   "nbconvert_exporter": "python",
   "pygments_lexer": "ipython3",
   "version": "3.12.3"
  }
 },
 "nbformat": 4,
 "nbformat_minor": 5
}
