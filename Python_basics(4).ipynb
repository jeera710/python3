{
 "cells": [
  {
   "cell_type": "markdown",
   "id": "d963f9c7-004e-42d1-bb64-1909a9212e1a",
   "metadata": {},
   "source": [
    "Theoritical Questions:"
   ]
  },
  {
   "cell_type": "markdown",
   "id": "3c5692f1-9db9-4876-b30e-2815e573446c",
   "metadata": {},
   "source": [
    "1.What is python and why is it popular?\n",
    "  \n",
    "  -> python is a high-level,interpreted programming language known for its simplicity and readability.\n",
    "  -> python is popular for following reasons:\n",
    "     i)Easy to learn and use\n",
    "     ii)Rich ecosystem of libraries\n",
    "     iii)Scalability and vesatality\n",
    "     iv)Open source\n",
    "     v)Automation\n",
    "     vi)Huge active community\n",
    "     vii)image processing \n",
    "     viii) Data base"
   ]
  },
  {
   "cell_type": "markdown",
   "id": "a4587d08-48c6-4c89-993c-08edb68aae12",
   "metadata": {},
   "source": [
    "2.what is an interpreter in python?\n",
    "  \n",
    "  -> An interpreter is a programme that executes python code line-by-line and converts it into a machine-readable code."
   ]
  },
  {
   "cell_type": "markdown",
   "id": "8ee154de-a8b8-4086-ab8c-d1af64fa9fa9",
   "metadata": {},
   "source": [
    "3.What are pre-defined keywords in python?\n",
    " \n",
    "  -> Pre-defined keywords are words that hold a special meaning and have specific purpose in python.\n",
    "     ie.print,break,def,none etc."
   ]
  },
  {
   "cell_type": "markdown",
   "id": "7c4b0113-812d-4149-9f40-09e76f05d7c4",
   "metadata": {},
   "source": [
    "4.can keywords be used as variable names?\n",
    "  \n",
    "  -> No, keyword cannot be used as variable names."
   ]
  },
  {
   "cell_type": "markdown",
   "id": "4f6f8862-468d-4147-9e23-8a425a79247b",
   "metadata": {},
   "source": [
    "5.what is mutability in phthon?\n",
    "\n",
    "  -> Mutability refers to wheather an object/container can be changed after it is created.\n",
    "     for example list is a mutable object."
   ]
  },
  {
   "cell_type": "markdown",
   "id": "745d4546-2e40-4fe2-8c02-29e80a961069",
   "metadata": {},
   "source": [
    "6.Why are lists mutable, but tuples are immutable?\n",
    "\n",
    "  -> Because lists are designed to be flexible and changeable whereas tuples are suitable for representing fixed collection of data."
   ]
  },
  {
   "cell_type": "markdown",
   "id": "2fb920b2-4139-453d-b364-3dd9b2e91c4e",
   "metadata": {},
   "source": [
    "7.What is difference between \"==\" and is operator \"in\" python?\n",
    "\n",
    "  -> \"==\" checks for eqality of values and returns True if the values of two objects are same whereas \"is\" checks for object identity and        returns True if two variables refer to the exact same object. "
   ]
  },
  {
   "cell_type": "markdown",
   "id": "46806a29-0e57-4d33-8985-3e141eb54f49",
   "metadata": {},
   "source": [
    "8.What are logical operators in python?\n",
    "\n",
    "  -> Logical operators are used to combine multiple conditions and return either True or False.\n",
    "  -> List of logical operators:\n",
    "      i)and\n",
    "      ii)or"
   ]
  },
  {
   "cell_type": "markdown",
   "id": "9d4b7f78-12e2-4f31-95f1-0f89211c3cbe",
   "metadata": {},
   "source": [
    "9.What is type casting in python?\n",
    "\n",
    "  -> The process of changing the data type of a value/object in python is known as type casting."
   ]
  },
  {
   "cell_type": "markdown",
   "id": "8ffe2d3b-9397-4cef-ad84-478efc7472cb",
   "metadata": {},
   "source": [
    "10.What is the difference between implicit and explicit type casting?\n",
    "\n",
    "  -> In implicit casting Python understands data type.so, it is done automatically by python.\n",
    "  -> In explicit castind programmer manually converts the data type by using inbuilt functions.\n",
    "    ie.str,int,float etc."
   ]
  },
  {
   "cell_type": "markdown",
   "id": "50ac2362-bf0f-4758-ba94-09c9840ffe02",
   "metadata": {},
   "source": [
    "11.What is the purpose of conditional statements in python?\n",
    "\n",
    "  -> Conditonal statements help us to code decisions based on some pre-conditions.They allow a programme to make desions and execute             different code blocks accordingly."
   ]
  },
  {
   "cell_type": "markdown",
   "id": "c869cdf7-e81d-420d-a47b-4b51f688fd13",
   "metadata": {},
   "source": [
    "12.How does the elif statement work?\n",
    "\n",
    "  -> When there are multiple conditions elif statement lets ypu check it.If the first condition(if) is Fales, elif provides another              condition to check."
   ]
  },
  {
   "cell_type": "markdown",
   "id": "a157cf04-742a-4a58-be65-bce1de3cbd10",
   "metadata": {},
   "source": [
    "13.what is the diffference between foe and whiule loops?\n",
    "\n",
    "  -> Here, while loop repeatedly executes a block of code untill a condition is met where for loop iterates over a sequence of elements."
   ]
  },
  {
   "cell_type": "markdown",
   "id": "6f5fba63-82a4-496f-b5f8-37dd1a2873bb",
   "metadata": {},
   "source": [
    "14.Describe a scenario where a while loop is more suitable than a for loop?\n",
    "\n",
    "  -> A while loop is better when we don't know in advance that how mamy times we need to loop.\n",
    "     ie. In a level based game(level 1- level 5) an index can be used to track the current level.\n",
    "         A while loops runs while the player is alive and not at the final level.\n",
    "         The index helps player to move on to the next level step by step."
   ]
  },
  {
   "cell_type": "markdown",
   "id": "be3d5dc9-995a-4b73-9524-77ab90fc1cf3",
   "metadata": {},
   "source": [
    "Practicle Questions:"
   ]
  },
  {
   "cell_type": "code",
   "execution_count": 1,
   "id": "97a7fcf7-a0b2-4e57-ab13-393eb4c4d4dd",
   "metadata": {},
   "outputs": [
    {
     "name": "stdout",
     "output_type": "stream",
     "text": [
      "Hello, world!\n"
     ]
    }
   ],
   "source": [
    "#1.print(\"Hello, world!\")\n",
    "print(\"Hello, world!\")"
   ]
  },
  {
   "cell_type": "code",
   "execution_count": 2,
   "id": "9390f2e2-db83-42c4-aba7-464739850886",
   "metadata": {},
   "outputs": [
    {
     "name": "stdout",
     "output_type": "stream",
     "text": [
      "Name: Jeera Nishad\n",
      "Age: 23\n"
     ]
    }
   ],
   "source": [
    "#2.display your name and age.\n",
    "name = \"Jeera Nishad\"\n",
    "age = 23\n",
    "print(\"Name:\",name)\n",
    "print(\"Age:\",age)"
   ]
  },
  {
   "cell_type": "code",
   "execution_count": 3,
   "id": "2b8f8133-0a59-4d87-b8be-c25bb23557cb",
   "metadata": {},
   "outputs": [
    {
     "name": "stdout",
     "output_type": "stream",
     "text": [
      "['False', 'None', 'True', 'and', 'as', 'assert', 'async', 'await', 'break', 'class', 'continue', 'def', 'del', 'elif', 'else', 'except', 'finally', 'for', 'from', 'global', 'if', 'import', 'in', 'is', 'lambda', 'nonlocal', 'not', 'or', 'pass', 'raise', 'return', 'try', 'while', 'with', 'yield']\n"
     ]
    }
   ],
   "source": [
    "#3.print all pre-defined keywords.\n",
    "import keyword\n",
    "print(keyword.kwlist)"
   ]
  },
  {
   "cell_type": "code",
   "execution_count": 4,
   "id": "b6394502-b206-44a7-a541-eb2e5cd1f2c7",
   "metadata": {},
   "outputs": [
    {
     "name": "stdout",
     "output_type": "stream",
     "text": [
      "for is a python keyword\n"
     ]
    }
   ],
   "source": [
    "#4.check if a word is a python keyword.\n",
    "import keyword\n",
    "word = \"for\"\n",
    "if keyword.iskeyword(word):\n",
    "    print(\"for is a python keyword\")\n",
    "else:\n",
    "    print(\"for is not a python keyword\")\n"
   ]
  },
  {
   "cell_type": "code",
   "execution_count": 5,
   "id": "494976a2-66f7-4d33-8bf0-29053543d887",
   "metadata": {},
   "outputs": [
    {
     "name": "stdout",
     "output_type": "stream",
     "text": [
      "modified list: [1, 2, 3, 4, 5, 6, 7, 8]\n"
     ]
    },
    {
     "ename": "TypeError",
     "evalue": "'tuple' object does not support item assignment",
     "output_type": "error",
     "traceback": [
      "\u001b[31m---------------------------------------------------------------------------\u001b[39m",
      "\u001b[31mTypeError\u001b[39m                                 Traceback (most recent call last)",
      "\u001b[36mCell\u001b[39m\u001b[36m \u001b[39m\u001b[32mIn[5]\u001b[39m\u001b[32m, line 6\u001b[39m\n\u001b[32m      4\u001b[39m list_cont[\u001b[32m4\u001b[39m] = \u001b[32m5\u001b[39m\n\u001b[32m      5\u001b[39m \u001b[38;5;28mprint\u001b[39m(\u001b[33m\"\u001b[39m\u001b[33mmodified list:\u001b[39m\u001b[33m\"\u001b[39m,list_cont)\n\u001b[32m----> \u001b[39m\u001b[32m6\u001b[39m \u001b[43mmy_tuple\u001b[49m\u001b[43m[\u001b[49m\u001b[32;43m0\u001b[39;49m\u001b[43m]\u001b[49m = \u001b[32m9\u001b[39m\n\u001b[32m      7\u001b[39m \u001b[38;5;28mprint\u001b[39m(\u001b[33m\"\u001b[39m\u001b[33mmodified list:\u001b[39m\u001b[33m\"\u001b[39m,my_tuple)\n",
      "\u001b[31mTypeError\u001b[39m: 'tuple' object does not support item assignment"
     ]
    }
   ],
   "source": [
    "#5.create list and tuple and demonstrate immutability.\n",
    "list_cont = [1,2,3,4,\"Ajay\",6,7,8]\n",
    "my_tuple = (\"Avnit\",\"Kiran\",109)\n",
    "list_cont[4] = 5\n",
    "print(\"modified list:\",list_cont)\n",
    "my_tuple[0] = 9\n",
    "print(\"modified list:\",my_tuple)"
   ]
  },
  {
   "cell_type": "code",
   "execution_count": 6,
   "id": "86e0e065-53af-43d3-bdcb-c99340d42928",
   "metadata": {},
   "outputs": [
    {
     "name": "stdout",
     "output_type": "stream",
     "text": [
      "modified list: [1, 2, 3, 100]\n",
      "modified list: 5\n"
     ]
    }
   ],
   "source": [
    "#6.behavior of mutable and immutable arguments.\n",
    "def modify_list(lst):\n",
    "    lst.append(100)\n",
    "\n",
    "def modify_int(num):\n",
    "    num += 10\n",
    "\n",
    "my_list = [1,2,3]\n",
    "modify_list(my_list)\n",
    "print(\"modified list:\", my_list)\n",
    "\n",
    "my_num = 5\n",
    "modify_int(my_num)\n",
    "print(\"modified list:\", my_num)"
   ]
  },
  {
   "cell_type": "code",
   "execution_count": 7,
   "id": "91048724-50fa-4c2e-9f9c-de3b8f3b4bfa",
   "metadata": {},
   "outputs": [
    {
     "name": "stdout",
     "output_type": "stream",
     "text": [
      "Sum: 12\n",
      "Difference: -2\n",
      "Product: 35\n",
      "Quotient: 0.7142857142857143\n"
     ]
    }
   ],
   "source": [
    "#7.basic arithmetic on two inputs.\n",
    "a = 5\n",
    "b = 7\n",
    "print(\"Sum:\",a + b)\n",
    "print(\"Difference:\",a - b)\n",
    "print(\"Product:\",a * b)\n",
    "print(\"Quotient:\",a / b)"
   ]
  },
  {
   "cell_type": "code",
   "execution_count": 8,
   "id": "e7903bec-8416-430e-a42d-af78652b2b0a",
   "metadata": {},
   "outputs": [
    {
     "name": "stdout",
     "output_type": "stream",
     "text": [
      "False\n",
      "False\n",
      "True\n"
     ]
    }
   ],
   "source": [
    "#8.use of logical operators.\n",
    "a = 8\n",
    "print(a > 10 and a < 20)\n",
    "print(a < 5 or a >13)\n",
    "print(not(a == 10))"
   ]
  },
  {
   "cell_type": "code",
   "execution_count": 9,
   "id": "bde46f25-56e9-4582-b302-056d4faba20e",
   "metadata": {},
   "outputs": [
    {
     "name": "stdout",
     "output_type": "stream",
     "text": [
      "As integer: 50\n",
      "As float: 50.0\n",
      "As boolean: True\n"
     ]
    }
   ],
   "source": [
    "#9.convert input into int, float, bool.\n",
    "value = 50\n",
    "print(\"As integer:\", int(value))\n",
    "print(\"As float:\", float(value))\n",
    "print(\"As boolean:\", bool(value))"
   ]
  },
  {
   "cell_type": "code",
   "execution_count": 10,
   "id": "8269d4bd-8e95-4981-9745-08055d3716da",
   "metadata": {},
   "outputs": [
    {
     "name": "stdout",
     "output_type": "stream",
     "text": [
      "<class 'int'>\n",
      "<class 'str'>\n",
      "<class 'float'>\n",
      "<class 'bool'>\n",
      "modified list: [1, 3, 5, 7, 'veena', True]\n"
     ]
    },
    {
     "ename": "TypeError",
     "evalue": "can only concatenate str (not \"int\") to str",
     "output_type": "error",
     "traceback": [
      "\u001b[31m---------------------------------------------------------------------------\u001b[39m",
      "\u001b[31mTypeError\u001b[39m                                 Traceback (most recent call last)",
      "\u001b[36mCell\u001b[39m\u001b[36m \u001b[39m\u001b[32mIn[10]\u001b[39m\u001b[32m, line 8\u001b[39m\n\u001b[32m      6\u001b[39m \u001b[38;5;28mprint\u001b[39m(\u001b[38;5;28mtype\u001b[39m(\u001b[38;5;28mbool\u001b[39m(my_list[\u001b[32m4\u001b[39m])))\n\u001b[32m      7\u001b[39m \u001b[38;5;28mprint\u001b[39m(\u001b[33m\"\u001b[39m\u001b[33mmodified list:\u001b[39m\u001b[33m\"\u001b[39m,my_list)\n\u001b[32m----> \u001b[39m\u001b[32m8\u001b[39m \u001b[38;5;28;43mstr\u001b[39;49m\u001b[43m(\u001b[49m\u001b[43mmy_list\u001b[49m\u001b[43m[\u001b[49m\u001b[32;43m0\u001b[39;49m\u001b[43m]\u001b[49m\u001b[43m)\u001b[49m\u001b[43m \u001b[49m\u001b[43m+\u001b[49m\u001b[43m \u001b[49m\u001b[43mmy_list\u001b[49m\u001b[43m[\u001b[49m\u001b[32;43m1\u001b[39;49m\u001b[43m]\u001b[49m\u001b[38;5;66;03m#here the first element is string so the addition is not possible.\u001b[39;00m\n",
      "\u001b[31mTypeError\u001b[39m: can only concatenate str (not \"int\") to str"
     ]
    }
   ],
   "source": [
    "#10.type casting with list elements.\n",
    "my_list = [1,3,5,7,\"veena\",True]\n",
    "print(type(my_list[0]))\n",
    "print(type(str(my_list[0])))\n",
    "print(type(float(my_list[3])))\n",
    "print(type(bool(my_list[4])))\n",
    "print(\"modified list:\",my_list)\n",
    "str(my_list[0]) + my_list[1]#here the first element is string so the addition is not possible."
   ]
  },
  {
   "cell_type": "code",
   "execution_count": 11,
   "id": "3c319ad1-e5c2-4b78-b3aa-b713e7b6184d",
   "metadata": {},
   "outputs": [
    {
     "name": "stdout",
     "output_type": "stream",
     "text": [
      "the number is positive\n"
     ]
    }
   ],
   "source": [
    "#11.check if a number is positive,negative or zero.\n",
    "a = 6\n",
    "if a > 0:\n",
    "    print(\"the number is positive\")\n",
    "elif a < 0:\n",
    "    print(\"the number is negative\")\n",
    "else:\n",
    "    print(\"the number is zero\")"
   ]
  },
  {
   "cell_type": "code",
   "execution_count": 12,
   "id": "8f1e7ca4-b6bd-4675-a7f8-677515b8a7c8",
   "metadata": {},
   "outputs": [
    {
     "name": "stdout",
     "output_type": "stream",
     "text": [
      "0\n",
      "1\n",
      "2\n",
      "3\n",
      "4\n",
      "5\n",
      "6\n",
      "7\n",
      "8\n",
      "9\n",
      "10\n"
     ]
    }
   ],
   "source": [
    "#12.write a for loop to print 1 to 10.\n",
    "for i in range (0,11):\n",
    "    print(i)"
   ]
  },
  {
   "cell_type": "code",
   "execution_count": 13,
   "id": "14076a35-7687-4369-a168-8c2b7c854446",
   "metadata": {},
   "outputs": [
    {
     "name": "stdout",
     "output_type": "stream",
     "text": [
      "sum of all even between 1 and numbers: 600\n"
     ]
    }
   ],
   "source": [
    "#13.sum of all even numbers between 1 and 50.\n",
    "sum = 0\n",
    "for i in range(1,50):\n",
    "    if i % 2 == 0:\n",
    "        sum += i\n",
    "print(\"sum of all even between 1 and numbers:\",sum)"
   ]
  },
  {
   "cell_type": "code",
   "execution_count": 14,
   "id": "00a7968e-5511-4748-b215-61f90485518e",
   "metadata": {},
   "outputs": [
    {
     "name": "stdout",
     "output_type": "stream",
     "text": [
      "reversed string: olleH\n"
     ]
    }
   ],
   "source": [
    "#14.reverse a string using while loop.\n",
    "text = \"Hello\"\n",
    "reversed_text = \"\"\n",
    "i = len(text) - 1\n",
    "while i >= 0:\n",
    "    reversed_text += text[i]\n",
    "    i -= 1\n",
    "print(\"reversed string:\",reversed_text)   "
   ]
  },
  {
   "cell_type": "code",
   "execution_count": 15,
   "id": "c5427cd2-81a2-4eb8-8a6d-cd1c1ad822f5",
   "metadata": {},
   "outputs": [
    {
     "name": "stdout",
     "output_type": "stream",
     "text": [
      "factorial of 7 is: 5040\n"
     ]
    }
   ],
   "source": [
    "#15.calculate factorial using while loop.\n",
    "num = 7\n",
    "factorial = 1\n",
    "i = 1\n",
    "while i <= num:\n",
    "    factorial *= i\n",
    "    i += 1\n",
    "print(\"factorial of 7 is:\",factorial)"
   ]
  },
  {
   "cell_type": "code",
   "execution_count": null,
   "id": "d5adf62f-15db-4530-a8c2-5327e0e8286c",
   "metadata": {},
   "outputs": [],
   "source": []
  }
 ],
 "metadata": {
  "kernelspec": {
   "display_name": "Python 3 (ipykernel)",
   "language": "python",
   "name": "python3"
  },
  "language_info": {
   "codemirror_mode": {
    "name": "ipython",
    "version": 3
   },
   "file_extension": ".py",
   "mimetype": "text/x-python",
   "name": "python",
   "nbconvert_exporter": "python",
   "pygments_lexer": "ipython3",
   "version": "3.12.3"
  }
 },
 "nbformat": 4,
 "nbformat_minor": 5
}
